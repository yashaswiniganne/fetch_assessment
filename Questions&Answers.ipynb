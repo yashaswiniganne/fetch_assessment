{
  "nbformat": 4,
  "nbformat_minor": 0,
  "metadata": {
    "colab": {
      "provenance": []
    },
    "kernelspec": {
      "name": "python3",
      "display_name": "Python 3"
    },
    "language_info": {
      "name": "python"
    }
  },
  "cells": [
    {
      "cell_type": "markdown",
      "source": [
        "**Are there any data quality issues present?**\n",
        "\n",
        "Yes, there are several data quality issues in the datasets:\n",
        "\n",
        "In users_df:\n",
        "\n",
        "The BIRTH_DATE column has 3,675 missing values.\n",
        "The STATE column has 4,812 missing values.\n",
        "The LANGUAGE column has 30,508 missing values.\n",
        "The GENDER column has 5,893 missing values.\n",
        "\n",
        "In transactions_df:\n",
        "\n",
        "The BARCODE column has 5,762 missing values.\n",
        "\n",
        "In products_df:\n",
        "\n",
        "The CATEGORY_1 column has 111 missing values.\n",
        "The CATEGORY_2 column has 1,424 missing values.\n",
        "The CATEGORY_3 column has 60,566 missing values.\n",
        "The CATEGORY_4 column has 778,093 missing values.\n",
        "The MANUFACTURER column has 226,474 missing values.\n",
        "The BRAND column has 226,472 missing values.\n",
        "The BARCODE column has 4,025 missing values."
      ],
      "metadata": {
        "id": "0NheJ4PMmU9y"
      }
    },
    {
      "cell_type": "code",
      "source": [
        "# # Supporting code :\n",
        "# print(users_df.isnull().sum())\n",
        "# print(\"\\n========================\")\n",
        "# print(transactions_df.isnull().sum())\n",
        "# print(\"\\n========================\")\n",
        "# print(products_df.isnull().sum())\n",
        "\n",
        "\n",
        "\n",
        "# # Heatmap for missing values\n",
        "# plt.figure(figsize=(12, 6))\n",
        "# sns.heatmap(users_df.isnull(), cbar=False, cmap='viridis', yticklabels=False)\n",
        "# plt.title('Heatmap of Missing Values in Users Dataset')\n",
        "# plt.show()\n",
        "\n",
        "\n",
        "# # Heatmap for missing values\n",
        "# plt.figure(figsize=(12, 6))\n",
        "# sns.heatmap(products_df.isnull(), cbar=False, cmap='viridis', yticklabels=False)\n",
        "# plt.title('Heatmap of Missing Values in Products Dataset')\n",
        "# plt.show()\n",
        "\n",
        "# Heatmap for missing values\n",
        "# plt.figure(figsize=(12, 6))\n",
        "# sns.heatmap(transactions_df.isnull(), cbar=False, cmap='viridis', yticklabels=False)\n",
        "# plt.title('Heatmap of Missing Values in Transactions Dataset')\n",
        "# plt.show()"
      ],
      "metadata": {
        "id": "gi2FFZcRmoGz"
      },
      "execution_count": 1,
      "outputs": []
    },
    {
      "cell_type": "code",
      "source": [],
      "metadata": {
        "id": "hPojYIR-oL-C"
      },
      "execution_count": null,
      "outputs": []
    },
    {
      "cell_type": "markdown",
      "source": [
        "There were 171 duplicate records in the transactions_df and 215 duplicate records in the products_df."
      ],
      "metadata": {
        "id": "cJJfSg71okOF"
      }
    },
    {
      "cell_type": "code",
      "source": [
        "# print(users_df.duplicated().sum())\n",
        "# print(\"\\n========================\")\n",
        "# print(transactions_df.duplicated().sum())\n",
        "# print(\"\\n========================\")\n",
        "# print(products_df.duplicated().sum())"
      ],
      "metadata": {
        "id": "Ah4ig-JRo6fy"
      },
      "execution_count": 2,
      "outputs": []
    },
    {
      "cell_type": "code",
      "source": [],
      "metadata": {
        "id": "d8OrUTmhpAiX"
      },
      "execution_count": null,
      "outputs": []
    },
    {
      "cell_type": "markdown",
      "source": [
        "The date columns were initially in object data type, so I converted them to the datetime data type."
      ],
      "metadata": {
        "id": "F-SR1zPBpkrq"
      }
    },
    {
      "cell_type": "code",
      "source": [
        "# users_df['CREATED_DATE'] = pd.to_datetime(users_df['CREATED_DATE'],errors='coerce')\n",
        "# users_df['BIRTH_DATE'] = pd.to_datetime(users_df['BIRTH_DATE'],errors='coerce')\n",
        "# transactions_df['PURCHASE_DATE'] = pd.to_datetime(transactions_df['PURCHASE_DATE'],errors='coerce')\n",
        "# transactions_df['SCAN_DATE'] = pd.to_datetime(transactions_df['SCAN_DATE'],errors='coerce')\n",
        "\n"
      ],
      "metadata": {
        "id": "X9VOnMRfpj3i"
      },
      "execution_count": 3,
      "outputs": []
    },
    {
      "cell_type": "markdown",
      "source": [
        "The FINAL_SALE column in the transactions_df contained 12,500 blank string values, and its data type was incorrect and needs to be corrected."
      ],
      "metadata": {
        "id": "v1J3AoFjqkzq"
      }
    },
    {
      "cell_type": "code",
      "source": [
        "# transactions_df['FINAL_SALE'] = (\n",
        "#     transactions_df['FINAL_SALE']\n",
        "#     .astype(str)\n",
        "#     .str.replace(\" \", \"\", regex=False)\n",
        "#     .replace(\"\", None)\n",
        "#     .astype(float)\n",
        "# )\n"
      ],
      "metadata": {
        "id": "XhyOFPa8ql8B"
      },
      "execution_count": null,
      "outputs": []
    },
    {
      "cell_type": "markdown",
      "source": [
        "The FINAL_QUANTITY column in the transactions_df contains a zero value that should be converted to a numeric zero (0). Additionally, the data type should be updated to float."
      ],
      "metadata": {
        "id": "y0SkNvtcqtm5"
      }
    },
    {
      "cell_type": "code",
      "source": [
        "# transactions_df['FINAL_QUANTITY'] = (\n",
        "#     transactions_df['FINAL_QUANTITY']\n",
        "#     .astype(str)\n",
        "#     .str.strip()\n",
        "#     .replace(\"zero\", \"0\")\n",
        "#     .replace(\"\", None)\n",
        "#     .astype(float)\n",
        "# )\n"
      ],
      "metadata": {
        "id": "uRTtPReHrZiF"
      },
      "execution_count": 4,
      "outputs": []
    },
    {
      "cell_type": "markdown",
      "source": [
        "The missing values in the columns should be addressed if we intend to use the data for generating insights.\n",
        "\n",
        "\n",
        "\n"
      ],
      "metadata": {
        "id": "aRFpw1pmrwH5"
      }
    },
    {
      "cell_type": "markdown",
      "source": [
        "**Are there any fields that are challenging to understand?**\n",
        "\n",
        "Yes, in the products_df, there are columns named CATEGORY_1, CATEGORY_2, CATEGORY_3, and CATEGORY_4, which are unclear and should be renamed for better clarity."
      ],
      "metadata": {
        "id": "UL5MszK_r4Kw"
      }
    },
    {
      "cell_type": "code",
      "source": [],
      "metadata": {
        "id": "FgI-X-vGsben"
      },
      "execution_count": null,
      "outputs": []
    },
    {
      "cell_type": "markdown",
      "source": [
        "**Second: provide SQL queries**"
      ],
      "metadata": {
        "id": "pRDV8NmMfaYB"
      }
    },
    {
      "cell_type": "code",
      "source": [
        "# # What are the top 5 brands by receipts scanned among users 21 and over?\n",
        "# SELECT\n",
        "#     p.BRAND,\n",
        "#     COUNT(t.RECEIPT_ID) AS receipts_count\n",
        "# FROM\n",
        "#     transactions t\n",
        "# JOIN\n",
        "#     users u ON t.USER_ID = u.ID\n",
        "# JOIN\n",
        "#     products p ON t.BARCODE = p.BARCODE\n",
        "# WHERE\n",
        "#     u.BIRTH_DATE IS NOT NULL\n",
        "#     AND (YEAR(CURDATE()) - YEAR(u.BIRTH_DATE)) >= 21\n",
        "# GROUP BY\n",
        "#     p.BRAND\n",
        "# ORDER BY\n",
        "#     receipts_count DESC\n",
        "# LIMIT 5;\n"
      ],
      "metadata": {
        "id": "N1BvAUx8fcYz"
      },
      "execution_count": 2,
      "outputs": []
    },
    {
      "cell_type": "code",
      "source": [
        "# # What are the top 5 brands by sales among users that have had their account for at least six months?\n",
        "# SELECT\n",
        "#     p.BRAND,\n",
        "#     SUM(CAST(t.FINAL_SALE AS DECIMAL(10, 2))) AS total_sales\n",
        "# FROM\n",
        "#     transactions t\n",
        "# JOIN\n",
        "#     users u ON t.USER_ID = u.ID\n",
        "# JOIN\n",
        "#     products p ON t.BARCODE = p.BARCODE\n",
        "# WHERE\n",
        "#     u.CREATED_DATE <= DATE_SUB(CURDATE(), INTERVAL 6 MONTH)\n",
        "# GROUP BY\n",
        "#     p.BRAND\n",
        "# ORDER BY\n",
        "#     total_sales DESC\n",
        "# LIMIT 5;\n"
      ],
      "metadata": {
        "id": "6KmD4pBPfyCR"
      },
      "execution_count": 3,
      "outputs": []
    },
    {
      "cell_type": "code",
      "source": [
        "# # 1. Who are Fetch’s power users?\n",
        "# # Assumption: Power users are those with the highest transaction count and total spending.\n",
        "# SELECT\n",
        "#     u.ID AS user_id,\n",
        "#     COUNT(t.RECEIPT_ID) AS transaction_count,\n",
        "#     SUM(CAST(t.FINAL_SALE AS DECIMAL(10, 2))) AS total_spent\n",
        "# FROM\n",
        "#     transactions t\n",
        "# JOIN\n",
        "#     users u ON t.USER_ID = u.ID\n",
        "# GROUP BY\n",
        "#     u.ID\n",
        "# ORDER BY\n",
        "#     transaction_count DESC, total_spent DESC\n",
        "# LIMIT 10;\n"
      ],
      "metadata": {
        "id": "aVD0a7G8hDcc"
      },
      "execution_count": 4,
      "outputs": []
    },
    {
      "cell_type": "code",
      "source": [],
      "metadata": {
        "id": "IZMEdtqNhUnI"
      },
      "execution_count": null,
      "outputs": []
    }
  ]
}